{
 "cells": [
  {
   "cell_type": "code",
   "execution_count": 1,
   "metadata": {},
   "outputs": [
    {
     "data": {
      "text/html": [
       "<div>\n",
       "<style scoped>\n",
       "    .dataframe tbody tr th:only-of-type {\n",
       "        vertical-align: middle;\n",
       "    }\n",
       "\n",
       "    .dataframe tbody tr th {\n",
       "        vertical-align: top;\n",
       "    }\n",
       "\n",
       "    .dataframe thead th {\n",
       "        text-align: right;\n",
       "    }\n",
       "</style>\n",
       "<table border=\"1\" class=\"dataframe\">\n",
       "  <thead>\n",
       "    <tr style=\"text-align: right;\">\n",
       "      <th></th>\n",
       "      <th>id</th>\n",
       "      <th>age_days</th>\n",
       "      <th>age_years</th>\n",
       "      <th>gender</th>\n",
       "      <th>height</th>\n",
       "      <th>weight</th>\n",
       "      <th>ap_hi</th>\n",
       "      <th>ap_lo</th>\n",
       "      <th>cholesterol</th>\n",
       "      <th>gluc</th>\n",
       "      <th>smoke</th>\n",
       "      <th>alco</th>\n",
       "      <th>active</th>\n",
       "      <th>cardio</th>\n",
       "    </tr>\n",
       "  </thead>\n",
       "  <tbody>\n",
       "    <tr>\n",
       "      <th>0</th>\n",
       "      <td>0</td>\n",
       "      <td>18393</td>\n",
       "      <td>50</td>\n",
       "      <td>2</td>\n",
       "      <td>168</td>\n",
       "      <td>62.0</td>\n",
       "      <td>110</td>\n",
       "      <td>80</td>\n",
       "      <td>1</td>\n",
       "      <td>1</td>\n",
       "      <td>0</td>\n",
       "      <td>0</td>\n",
       "      <td>1</td>\n",
       "      <td>0</td>\n",
       "    </tr>\n",
       "    <tr>\n",
       "      <th>1</th>\n",
       "      <td>1</td>\n",
       "      <td>20228</td>\n",
       "      <td>55</td>\n",
       "      <td>1</td>\n",
       "      <td>156</td>\n",
       "      <td>85.0</td>\n",
       "      <td>140</td>\n",
       "      <td>90</td>\n",
       "      <td>3</td>\n",
       "      <td>1</td>\n",
       "      <td>0</td>\n",
       "      <td>0</td>\n",
       "      <td>1</td>\n",
       "      <td>1</td>\n",
       "    </tr>\n",
       "    <tr>\n",
       "      <th>2</th>\n",
       "      <td>2</td>\n",
       "      <td>18857</td>\n",
       "      <td>52</td>\n",
       "      <td>1</td>\n",
       "      <td>165</td>\n",
       "      <td>64.0</td>\n",
       "      <td>130</td>\n",
       "      <td>70</td>\n",
       "      <td>3</td>\n",
       "      <td>1</td>\n",
       "      <td>0</td>\n",
       "      <td>0</td>\n",
       "      <td>0</td>\n",
       "      <td>1</td>\n",
       "    </tr>\n",
       "    <tr>\n",
       "      <th>3</th>\n",
       "      <td>3</td>\n",
       "      <td>17623</td>\n",
       "      <td>48</td>\n",
       "      <td>2</td>\n",
       "      <td>169</td>\n",
       "      <td>82.0</td>\n",
       "      <td>150</td>\n",
       "      <td>100</td>\n",
       "      <td>1</td>\n",
       "      <td>1</td>\n",
       "      <td>0</td>\n",
       "      <td>0</td>\n",
       "      <td>1</td>\n",
       "      <td>1</td>\n",
       "    </tr>\n",
       "    <tr>\n",
       "      <th>4</th>\n",
       "      <td>4</td>\n",
       "      <td>17474</td>\n",
       "      <td>48</td>\n",
       "      <td>1</td>\n",
       "      <td>156</td>\n",
       "      <td>56.0</td>\n",
       "      <td>100</td>\n",
       "      <td>60</td>\n",
       "      <td>1</td>\n",
       "      <td>1</td>\n",
       "      <td>0</td>\n",
       "      <td>0</td>\n",
       "      <td>0</td>\n",
       "      <td>0</td>\n",
       "    </tr>\n",
       "  </tbody>\n",
       "</table>\n",
       "</div>"
      ],
      "text/plain": [
       "   id  age_days  age_years  gender  height  weight  ap_hi  ap_lo  cholesterol  \\\n",
       "0   0     18393         50       2     168    62.0    110     80            1   \n",
       "1   1     20228         55       1     156    85.0    140     90            3   \n",
       "2   2     18857         52       1     165    64.0    130     70            3   \n",
       "3   3     17623         48       2     169    82.0    150    100            1   \n",
       "4   4     17474         48       1     156    56.0    100     60            1   \n",
       "\n",
       "   gluc  smoke  alco  active  cardio  \n",
       "0     1      0     0       1       0  \n",
       "1     1      0     0       1       1  \n",
       "2     1      0     0       0       1  \n",
       "3     1      0     0       1       1  \n",
       "4     1      0     0       0       0  "
      ]
     },
     "execution_count": 1,
     "metadata": {},
     "output_type": "execute_result"
    }
   ],
   "source": [
    "# Import our dependencies\n",
    "from sklearn.model_selection import train_test_split\n",
    "from sklearn.preprocessing import StandardScaler\n",
    "import pandas as pd\n",
    "import tensorflow as tf\n",
    "import keras_tuner as kt\n",
    "\n",
    "#  Import and read the charity_data.csv.\n",
    "import pandas as pd \n",
    "df = pd.read_csv('Resources/cleaned_data.csv', delimiter=',')\n",
    "df.head()"
   ]
  },
  {
   "cell_type": "markdown",
   "metadata": {},
   "source": [
    "# Dataset Exploration"
   ]
  },
  {
   "cell_type": "code",
   "execution_count": 2,
   "metadata": {},
   "outputs": [
    {
     "data": {
      "text/plain": [
       "(70000, 14)"
      ]
     },
     "execution_count": 2,
     "metadata": {},
     "output_type": "execute_result"
    }
   ],
   "source": [
    "df.shape"
   ]
  },
  {
   "cell_type": "code",
   "execution_count": 3,
   "metadata": {},
   "outputs": [
    {
     "data": {
      "text/html": [
       "<div>\n",
       "<style scoped>\n",
       "    .dataframe tbody tr th:only-of-type {\n",
       "        vertical-align: middle;\n",
       "    }\n",
       "\n",
       "    .dataframe tbody tr th {\n",
       "        vertical-align: top;\n",
       "    }\n",
       "\n",
       "    .dataframe thead th {\n",
       "        text-align: right;\n",
       "    }\n",
       "</style>\n",
       "<table border=\"1\" class=\"dataframe\">\n",
       "  <thead>\n",
       "    <tr style=\"text-align: right;\">\n",
       "      <th></th>\n",
       "      <th>id</th>\n",
       "      <th>age_days</th>\n",
       "      <th>age_years</th>\n",
       "      <th>gender</th>\n",
       "      <th>height</th>\n",
       "      <th>weight</th>\n",
       "      <th>ap_hi</th>\n",
       "      <th>ap_lo</th>\n",
       "      <th>cholesterol</th>\n",
       "      <th>gluc</th>\n",
       "      <th>smoke</th>\n",
       "      <th>alco</th>\n",
       "      <th>active</th>\n",
       "      <th>cardio</th>\n",
       "    </tr>\n",
       "  </thead>\n",
       "  <tbody>\n",
       "    <tr>\n",
       "      <th>count</th>\n",
       "      <td>70000.000000</td>\n",
       "      <td>70000.000000</td>\n",
       "      <td>70000.000000</td>\n",
       "      <td>70000.000000</td>\n",
       "      <td>70000.000000</td>\n",
       "      <td>70000.000000</td>\n",
       "      <td>70000.000000</td>\n",
       "      <td>70000.000000</td>\n",
       "      <td>70000.000000</td>\n",
       "      <td>70000.000000</td>\n",
       "      <td>70000.000000</td>\n",
       "      <td>70000.000000</td>\n",
       "      <td>70000.000000</td>\n",
       "      <td>70000.000000</td>\n",
       "    </tr>\n",
       "    <tr>\n",
       "      <th>mean</th>\n",
       "      <td>49972.419900</td>\n",
       "      <td>19468.865814</td>\n",
       "      <td>53.303157</td>\n",
       "      <td>1.349571</td>\n",
       "      <td>164.359229</td>\n",
       "      <td>74.205690</td>\n",
       "      <td>128.817286</td>\n",
       "      <td>96.630414</td>\n",
       "      <td>1.366871</td>\n",
       "      <td>1.226457</td>\n",
       "      <td>0.088129</td>\n",
       "      <td>0.053771</td>\n",
       "      <td>0.803729</td>\n",
       "      <td>0.499700</td>\n",
       "    </tr>\n",
       "    <tr>\n",
       "      <th>std</th>\n",
       "      <td>28851.302323</td>\n",
       "      <td>2467.251667</td>\n",
       "      <td>6.760171</td>\n",
       "      <td>0.476838</td>\n",
       "      <td>8.210126</td>\n",
       "      <td>14.395757</td>\n",
       "      <td>154.011419</td>\n",
       "      <td>188.472530</td>\n",
       "      <td>0.680250</td>\n",
       "      <td>0.572270</td>\n",
       "      <td>0.283484</td>\n",
       "      <td>0.225568</td>\n",
       "      <td>0.397179</td>\n",
       "      <td>0.500003</td>\n",
       "    </tr>\n",
       "    <tr>\n",
       "      <th>min</th>\n",
       "      <td>0.000000</td>\n",
       "      <td>10798.000000</td>\n",
       "      <td>30.000000</td>\n",
       "      <td>1.000000</td>\n",
       "      <td>55.000000</td>\n",
       "      <td>10.000000</td>\n",
       "      <td>-150.000000</td>\n",
       "      <td>-70.000000</td>\n",
       "      <td>1.000000</td>\n",
       "      <td>1.000000</td>\n",
       "      <td>0.000000</td>\n",
       "      <td>0.000000</td>\n",
       "      <td>0.000000</td>\n",
       "      <td>0.000000</td>\n",
       "    </tr>\n",
       "    <tr>\n",
       "      <th>25%</th>\n",
       "      <td>25006.750000</td>\n",
       "      <td>17664.000000</td>\n",
       "      <td>48.000000</td>\n",
       "      <td>1.000000</td>\n",
       "      <td>159.000000</td>\n",
       "      <td>65.000000</td>\n",
       "      <td>120.000000</td>\n",
       "      <td>80.000000</td>\n",
       "      <td>1.000000</td>\n",
       "      <td>1.000000</td>\n",
       "      <td>0.000000</td>\n",
       "      <td>0.000000</td>\n",
       "      <td>1.000000</td>\n",
       "      <td>0.000000</td>\n",
       "    </tr>\n",
       "    <tr>\n",
       "      <th>50%</th>\n",
       "      <td>50001.500000</td>\n",
       "      <td>19703.000000</td>\n",
       "      <td>54.000000</td>\n",
       "      <td>1.000000</td>\n",
       "      <td>165.000000</td>\n",
       "      <td>72.000000</td>\n",
       "      <td>120.000000</td>\n",
       "      <td>80.000000</td>\n",
       "      <td>1.000000</td>\n",
       "      <td>1.000000</td>\n",
       "      <td>0.000000</td>\n",
       "      <td>0.000000</td>\n",
       "      <td>1.000000</td>\n",
       "      <td>0.000000</td>\n",
       "    </tr>\n",
       "    <tr>\n",
       "      <th>75%</th>\n",
       "      <td>74889.250000</td>\n",
       "      <td>21327.000000</td>\n",
       "      <td>58.000000</td>\n",
       "      <td>2.000000</td>\n",
       "      <td>170.000000</td>\n",
       "      <td>82.000000</td>\n",
       "      <td>140.000000</td>\n",
       "      <td>90.000000</td>\n",
       "      <td>2.000000</td>\n",
       "      <td>1.000000</td>\n",
       "      <td>0.000000</td>\n",
       "      <td>0.000000</td>\n",
       "      <td>1.000000</td>\n",
       "      <td>1.000000</td>\n",
       "    </tr>\n",
       "    <tr>\n",
       "      <th>max</th>\n",
       "      <td>99999.000000</td>\n",
       "      <td>23713.000000</td>\n",
       "      <td>65.000000</td>\n",
       "      <td>2.000000</td>\n",
       "      <td>250.000000</td>\n",
       "      <td>200.000000</td>\n",
       "      <td>16020.000000</td>\n",
       "      <td>11000.000000</td>\n",
       "      <td>3.000000</td>\n",
       "      <td>3.000000</td>\n",
       "      <td>1.000000</td>\n",
       "      <td>1.000000</td>\n",
       "      <td>1.000000</td>\n",
       "      <td>1.000000</td>\n",
       "    </tr>\n",
       "  </tbody>\n",
       "</table>\n",
       "</div>"
      ],
      "text/plain": [
       "                 id      age_days     age_years        gender        height  \\\n",
       "count  70000.000000  70000.000000  70000.000000  70000.000000  70000.000000   \n",
       "mean   49972.419900  19468.865814     53.303157      1.349571    164.359229   \n",
       "std    28851.302323   2467.251667      6.760171      0.476838      8.210126   \n",
       "min        0.000000  10798.000000     30.000000      1.000000     55.000000   \n",
       "25%    25006.750000  17664.000000     48.000000      1.000000    159.000000   \n",
       "50%    50001.500000  19703.000000     54.000000      1.000000    165.000000   \n",
       "75%    74889.250000  21327.000000     58.000000      2.000000    170.000000   \n",
       "max    99999.000000  23713.000000     65.000000      2.000000    250.000000   \n",
       "\n",
       "             weight         ap_hi         ap_lo   cholesterol          gluc  \\\n",
       "count  70000.000000  70000.000000  70000.000000  70000.000000  70000.000000   \n",
       "mean      74.205690    128.817286     96.630414      1.366871      1.226457   \n",
       "std       14.395757    154.011419    188.472530      0.680250      0.572270   \n",
       "min       10.000000   -150.000000    -70.000000      1.000000      1.000000   \n",
       "25%       65.000000    120.000000     80.000000      1.000000      1.000000   \n",
       "50%       72.000000    120.000000     80.000000      1.000000      1.000000   \n",
       "75%       82.000000    140.000000     90.000000      2.000000      1.000000   \n",
       "max      200.000000  16020.000000  11000.000000      3.000000      3.000000   \n",
       "\n",
       "              smoke          alco        active        cardio  \n",
       "count  70000.000000  70000.000000  70000.000000  70000.000000  \n",
       "mean       0.088129      0.053771      0.803729      0.499700  \n",
       "std        0.283484      0.225568      0.397179      0.500003  \n",
       "min        0.000000      0.000000      0.000000      0.000000  \n",
       "25%        0.000000      0.000000      1.000000      0.000000  \n",
       "50%        0.000000      0.000000      1.000000      0.000000  \n",
       "75%        0.000000      0.000000      1.000000      1.000000  \n",
       "max        1.000000      1.000000      1.000000      1.000000  "
      ]
     },
     "execution_count": 3,
     "metadata": {},
     "output_type": "execute_result"
    }
   ],
   "source": [
    "df.describe()"
   ]
  },
  {
   "cell_type": "code",
   "execution_count": 9,
   "metadata": {},
   "outputs": [
    {
     "data": {
      "text/plain": [
       "age_years\n",
       "54    5961\n",
       "56    5944\n",
       "58    5693\n",
       "60    5420\n",
       "52    5279\n",
       "50    5242\n",
       "62    3887\n",
       "64    3854\n",
       "48    3167\n",
       "46    2923\n",
       "44    2805\n",
       "40    2676\n",
       "42    2602\n",
       "55    1584\n",
       "57    1478\n",
       "53    1460\n",
       "59    1378\n",
       "51    1377\n",
       "61    1225\n",
       "49    1123\n",
       "63    1078\n",
       "47     793\n",
       "45     790\n",
       "41     777\n",
       "43     733\n",
       "39     470\n",
       "65     277\n",
       "30       4\n",
       "Name: count, dtype: int64"
      ]
     },
     "execution_count": 9,
     "metadata": {},
     "output_type": "execute_result"
    }
   ],
   "source": [
    "df.age_years.value_counts()"
   ]
  },
  {
   "cell_type": "code",
   "execution_count": 4,
   "metadata": {},
   "outputs": [
    {
     "data": {
      "text/plain": [
       "gender\n",
       "1    45530\n",
       "2    24470\n",
       "Name: count, dtype: int64"
      ]
     },
     "execution_count": 4,
     "metadata": {},
     "output_type": "execute_result"
    }
   ],
   "source": [
    "df.gender.value_counts()"
   ]
  },
  {
   "cell_type": "code",
   "execution_count": 12,
   "metadata": {},
   "outputs": [
    {
     "data": {
      "text/plain": [
       "height\n",
       "165    5853\n",
       "160    5022\n",
       "170    4679\n",
       "168    4399\n",
       "164    3396\n",
       "       ... \n",
       "112       1\n",
       "98        1\n",
       "74        1\n",
       "119       1\n",
       "57        1\n",
       "Name: count, Length: 109, dtype: int64"
      ]
     },
     "execution_count": 12,
     "metadata": {},
     "output_type": "execute_result"
    }
   ],
   "source": [
    "df.height.value_counts()"
   ]
  },
  {
   "cell_type": "code",
   "execution_count": 13,
   "metadata": {},
   "outputs": [
    {
     "data": {
      "text/plain": [
       "weight\n",
       "65.0    3850\n",
       "70.0    3764\n",
       "68.0    2831\n",
       "75.0    2740\n",
       "60.0    2710\n",
       "        ... \n",
       "92.2       1\n",
       "75.6       1\n",
       "82.9       1\n",
       "23.0       1\n",
       "99.9       1\n",
       "Name: count, Length: 287, dtype: int64"
      ]
     },
     "execution_count": 13,
     "metadata": {},
     "output_type": "execute_result"
    }
   ],
   "source": [
    "df.weight.value_counts()"
   ]
  },
  {
   "cell_type": "code",
   "execution_count": 14,
   "metadata": {},
   "outputs": [
    {
     "data": {
      "text/plain": [
       "ap_hi\n",
       " 120     27699\n",
       " 140      9506\n",
       " 130      8961\n",
       " 110      8644\n",
       " 150      4450\n",
       "         ...  \n",
       " 1620        1\n",
       " 199         1\n",
       "-150         1\n",
       "-115         1\n",
       " 2000        1\n",
       "Name: count, Length: 153, dtype: int64"
      ]
     },
     "execution_count": 14,
     "metadata": {},
     "output_type": "execute_result"
    }
   ],
   "source": [
    "df.ap_hi.value_counts()"
   ]
  },
  {
   "cell_type": "code",
   "execution_count": 15,
   "metadata": {},
   "outputs": [
    {
     "data": {
      "text/plain": [
       "ap_lo\n",
       "80     34847\n",
       "90     14316\n",
       "70     10245\n",
       "100     4082\n",
       "60      2727\n",
       "       ...  \n",
       "56         1\n",
       "182        1\n",
       "810        1\n",
       "9          1\n",
       "602        1\n",
       "Name: count, Length: 157, dtype: int64"
      ]
     },
     "execution_count": 15,
     "metadata": {},
     "output_type": "execute_result"
    }
   ],
   "source": [
    "df.ap_lo.value_counts()"
   ]
  },
  {
   "cell_type": "code",
   "execution_count": 16,
   "metadata": {},
   "outputs": [
    {
     "data": {
      "text/plain": [
       "cholesterol\n",
       "1    52385\n",
       "2     9549\n",
       "3     8066\n",
       "Name: count, dtype: int64"
      ]
     },
     "execution_count": 16,
     "metadata": {},
     "output_type": "execute_result"
    }
   ],
   "source": [
    "df.cholesterol.value_counts()"
   ]
  },
  {
   "cell_type": "code",
   "execution_count": 18,
   "metadata": {},
   "outputs": [
    {
     "data": {
      "text/plain": [
       "gluc\n",
       "1    59479\n",
       "3     5331\n",
       "2     5190\n",
       "Name: count, dtype: int64"
      ]
     },
     "execution_count": 18,
     "metadata": {},
     "output_type": "execute_result"
    }
   ],
   "source": [
    "df.gluc.value_counts()"
   ]
  },
  {
   "cell_type": "code",
   "execution_count": 5,
   "metadata": {},
   "outputs": [
    {
     "data": {
      "text/plain": [
       "smoke\n",
       "0    63831\n",
       "1     6169\n",
       "Name: count, dtype: int64"
      ]
     },
     "execution_count": 5,
     "metadata": {},
     "output_type": "execute_result"
    }
   ],
   "source": [
    "df.smoke.value_counts()"
   ]
  },
  {
   "cell_type": "code",
   "execution_count": 6,
   "metadata": {},
   "outputs": [
    {
     "data": {
      "text/plain": [
       "alco\n",
       "0    66236\n",
       "1     3764\n",
       "Name: count, dtype: int64"
      ]
     },
     "execution_count": 6,
     "metadata": {},
     "output_type": "execute_result"
    }
   ],
   "source": [
    "df.alco.value_counts()"
   ]
  },
  {
   "cell_type": "code",
   "execution_count": 7,
   "metadata": {},
   "outputs": [
    {
     "data": {
      "text/plain": [
       "active\n",
       "1    56261\n",
       "0    13739\n",
       "Name: count, dtype: int64"
      ]
     },
     "execution_count": 7,
     "metadata": {},
     "output_type": "execute_result"
    }
   ],
   "source": [
    "df.active.value_counts()"
   ]
  },
  {
   "cell_type": "code",
   "execution_count": 8,
   "metadata": {},
   "outputs": [
    {
     "data": {
      "text/plain": [
       "cardio\n",
       "0    35021\n",
       "1    34979\n",
       "Name: count, dtype: int64"
      ]
     },
     "execution_count": 8,
     "metadata": {},
     "output_type": "execute_result"
    }
   ],
   "source": [
    "df.cardio.value_counts()"
   ]
  },
  {
   "cell_type": "markdown",
   "metadata": {},
   "source": [
    "# Prep Data for Training"
   ]
  },
  {
   "cell_type": "code",
   "execution_count": null,
   "metadata": {},
   "outputs": [],
   "source": [
    "# Convert categorical data to numeric with `pd.get_dummies`\n",
    "df_dummies = pd.get_dummies(df, columns=['cholesterol', 'gluc'], prefix=['cholesterol', 'gluc'])"
   ]
  },
  {
   "cell_type": "code",
   "execution_count": null,
   "metadata": {},
   "outputs": [],
   "source": []
  },
  {
   "cell_type": "code",
   "execution_count": null,
   "metadata": {},
   "outputs": [],
   "source": []
  },
  {
   "cell_type": "code",
   "execution_count": null,
   "metadata": {},
   "outputs": [],
   "source": []
  },
  {
   "cell_type": "code",
   "execution_count": 6,
   "metadata": {},
   "outputs": [],
   "source": [
    "# Split our preprocessed data into our features and target arrays\n",
    "X = df.drop(columns=['cardio', 'age_years']).values\n",
    "y = df['cardio'].values\n",
    "\n",
    "# Split the preprocessed data into a training and testing dataset\n",
    "X_train, X_test, y_train, y_test = train_test_split(X, y, random_state=42)"
   ]
  },
  {
   "cell_type": "code",
   "execution_count": 7,
   "metadata": {},
   "outputs": [],
   "source": [
    "# Create a StandardScaler instances\n",
    "scaler = StandardScaler()\n",
    "\n",
    "# Fit the StandardScaler\n",
    "X_scaler = scaler.fit(X_train)\n",
    "\n",
    "# Scale the data\n",
    "X_train_scaled = X_scaler.transform(X_train)\n",
    "X_test_scaled = X_scaler.transform(X_test)"
   ]
  },
  {
   "cell_type": "code",
   "execution_count": 27,
   "metadata": {},
   "outputs": [],
   "source": [
    "number_input_features = len(X_train[0])\n",
    "\n",
    "# Create a method that creates a new Sequential model with hyperparameter options\n",
    "def build_model(hp):\n",
    "    # Create Model\n",
    "    nn_model = tf.keras.models.Sequential()\n",
    "    \n",
    "    # Allow kerastuner to decide which activation function to use in hidden layers\n",
    "    activation = hp.Choice('activation', ['relu','tanh','sigmoid', 'softmax', 'leaky_relu'])\n",
    "\n",
    "    # Allow kerastuner to decide number of neurons in first layer\n",
    "    nn_model.add(tf.keras.layers.Dense(\n",
    "        units=hp.Int('first_units', min_value=1, max_value=4, step=2), \n",
    "        activation=activation, \n",
    "        input_dim=number_input_features))\n",
    "\n",
    "    # Allow kerastuner to decide number of hidden layers and neurons in hidden layers\n",
    "    for i in range(hp.Int('num_layers', 1, 2)):\n",
    "        nn_model.add(tf.keras.layers.Dense(units=hp.Int('units_' + str(i),\n",
    "            min_value=1,\n",
    "            max_value=4,\n",
    "            step=2),\n",
    "            activation=activation))\n",
    "\n",
    "    # Add dropout layer with a choice for dropout rate\n",
    "    nn_model.add(tf.keras.layers.Dropout(\n",
    "        hp.Float(f'dropout_{i}', min_value=0.0, max_value=0.5, step=0.2)))\n",
    "\n",
    "    nn_model.add(tf.keras.layers.Dense(units=1, activation=\"sigmoid\"))\n",
    "\n",
    "    # Compile the model\n",
    "    nn_model.compile(loss=\"binary_crossentropy\", optimizer=tf.keras.optimizers.Adam(learning_rate=hp.Choice('learning_rate', \n",
    "                                                                                                            values=[1e-2, 1e-3, 1e-4])), \n",
    "                                                                                                            metrics=[\"accuracy\"])\n",
    "\n",
    "    return nn_model"
   ]
  },
  {
   "cell_type": "code",
   "execution_count": 28,
   "metadata": {},
   "outputs": [],
   "source": [
    "# Import the kerastuner library\n",
    "import keras_tuner as kt\n",
    "\n",
    "tuner = kt.Hyperband(\n",
    "    build_model,\n",
    "    objective=\"val_accuracy\",\n",
    "    max_epochs=20,\n",
    "    hyperband_iterations=2)"
   ]
  },
  {
   "cell_type": "code",
   "execution_count": 29,
   "metadata": {},
   "outputs": [
    {
     "name": "stdout",
     "output_type": "stream",
     "text": [
      "Trial 60 Complete [00h 00m 35s]\n",
      "val_accuracy: 0.7314285635948181\n",
      "\n",
      "Best val_accuracy So Far: 0.7345714569091797\n",
      "Total elapsed time: 00h 13m 25s\n",
      "CPU times: total: 17min 45s\n",
      "Wall time: 13min 25s\n"
     ]
    }
   ],
   "source": [
    "%%time\n",
    "# Run the kerastuner search for best hyperparameters\n",
    "tuner.search(X_train_scaled,y_train,epochs=100,validation_data=(X_test_scaled,y_test))"
   ]
  },
  {
   "cell_type": "code",
   "execution_count": null,
   "metadata": {},
   "outputs": [],
   "source": [
    "# Get best model hyperparameters\n",
    "best_hyper = tuner.get_best_hyperparameters(1)[0]\n",
    "best_hyper.values"
   ]
  },
  {
   "cell_type": "code",
   "execution_count": null,
   "metadata": {},
   "outputs": [],
   "source": [
    "# Evaluate best model against full test data\n",
    "best_model = tuner.get_best_models(1)[0]\n",
    "model_loss, model_accuracy = best_model.evaluate(X_test_scaled,y_test,verbose=2)\n",
    "print(f\"Loss: {model_loss}, Accuracy: {model_accuracy}\")"
   ]
  },
  {
   "cell_type": "markdown",
   "metadata": {},
   "source": [
    "# LazyPredict"
   ]
  },
  {
   "cell_type": "code",
   "execution_count": 4,
   "metadata": {},
   "outputs": [
    {
     "name": "stderr",
     "output_type": "stream",
     "text": [
      "  3%|▎         | 1/29 [00:01<00:36,  1.29s/it]"
     ]
    },
    {
     "name": "stdout",
     "output_type": "stream",
     "text": [
      "{'Model': 'AdaBoostClassifier', 'Accuracy': 0.7345428571428572, 'Balanced Accuracy': 0.7348239857552007, 'ROC AUC': 0.7348239857552006, 'F1 Score': 0.7332616761612806, 'Time taken': 1.2900631427764893}\n"
     ]
    },
    {
     "name": "stderr",
     "output_type": "stream",
     "text": [
      "  7%|▋         | 2/29 [00:03<00:57,  2.12s/it]"
     ]
    },
    {
     "name": "stdout",
     "output_type": "stream",
     "text": [
      "{'Model': 'BaggingClassifier', 'Accuracy': 0.6992, 'Balanced Accuracy': 0.6994162192309363, 'ROC AUC': 0.6994162192309363, 'F1 Score': 0.6983457929080357, 'Time taken': 2.700540542602539}\n",
      "{'Model': 'BernoulliNB', 'Accuracy': 0.7149428571428571, 'Balanced Accuracy': 0.7151566996500516, 'ROC AUC': 0.7151566996500516, 'F1 Score': 0.7141532910975374, 'Time taken': 0.08806967735290527}\n"
     ]
    },
    {
     "name": "stderr",
     "output_type": "stream",
     "text": [
      " 14%|█▍        | 4/29 [00:04<00:21,  1.14it/s]"
     ]
    },
    {
     "name": "stdout",
     "output_type": "stream",
     "text": [
      "{'Model': 'CalibratedClassifierCV', 'Accuracy': 0.6510571428571429, 'Balanced Accuracy': 0.651170990164414, 'ROC AUC': 0.651170990164414, 'F1 Score': 0.6507875716170153, 'Time taken': 0.19115233421325684}\n",
      "CategoricalNB model failed to execute\n",
      "Negative values in data passed to CategoricalNB (input X)\n"
     ]
    },
    {
     "name": "stderr",
     "output_type": "stream",
     "text": [
      " 28%|██▊       | 8/29 [00:04<00:07,  2.80it/s]"
     ]
    },
    {
     "name": "stdout",
     "output_type": "stream",
     "text": [
      "{'Model': 'DecisionTreeClassifier', 'Accuracy': 0.6339714285714285, 'Balanced Accuracy': 0.6339579147552075, 'ROC AUC': 0.6339579147552075, 'F1 Score': 0.6339672843854437, 'Time taken': 0.3784801959991455}\n",
      "{'Model': 'DummyClassifier', 'Accuracy': 0.498, 'Balanced Accuracy': 0.5, 'ROC AUC': 0.5, 'F1 Score': 0.33111348464619494, 'Time taken': 0.03804779052734375}\n",
      "{'Model': 'ExtraTreeClassifier', 'Accuracy': 0.6230285714285714, 'Balanced Accuracy': 0.6230499687995008, 'ROC AUC': 0.6230499687995008, 'F1 Score': 0.6230211858055985, 'Time taken': 0.08315491676330566}\n"
     ]
    },
    {
     "name": "stderr",
     "output_type": "stream",
     "text": [
      " 31%|███       | 9/29 [00:09<00:25,  1.29s/it]"
     ]
    },
    {
     "name": "stdout",
     "output_type": "stream",
     "text": [
      "{'Model': 'ExtraTreesClassifier', 'Accuracy': 0.7160571428571428, 'Balanced Accuracy': 0.7161072291442377, 'ROC AUC': 0.7161072291442377, 'F1 Score': 0.7160196904306232, 'Time taken': 4.529189348220825}\n",
      "{'Model': 'GaussianNB', 'Accuracy': 0.6006285714285714, 'Balanced Accuracy': 0.6016455120424784, 'ROC AUC': 0.6016455120424783, 'F1 Score': 0.5731569014528832, 'Time taken': 0.0518496036529541}\n"
     ]
    },
    {
     "name": "stderr",
     "output_type": "stream",
     "text": [
      " 38%|███▊      | 11/29 [00:15<00:36,  2.01s/it]"
     ]
    },
    {
     "name": "stdout",
     "output_type": "stream",
     "text": [
      "{'Model': 'KNeighborsClassifier', 'Accuracy': 0.6195714285714286, 'Balanced Accuracy': 0.6196289997782821, 'ROC AUC': 0.6196289997782821, 'F1 Score': 0.6194992862786871, 'Time taken': 6.210220813751221}\n"
     ]
    },
    {
     "name": "stderr",
     "output_type": "stream",
     "text": [
      " 41%|████▏     | 12/29 [01:08<03:43, 13.17s/it]"
     ]
    },
    {
     "name": "stdout",
     "output_type": "stream",
     "text": [
      "{'Model': 'LabelPropagation', 'Accuracy': 0.6023142857142857, 'Balanced Accuracy': 0.6024982113999537, 'ROC AUC': 0.6024982113999537, 'F1 Score': 0.6014884127264055, 'Time taken': 53.26028227806091}\n"
     ]
    },
    {
     "name": "stderr",
     "output_type": "stream",
     "text": [
      " 45%|████▍     | 13/29 [02:19<07:09, 26.82s/it]"
     ]
    },
    {
     "name": "stdout",
     "output_type": "stream",
     "text": [
      "{'Model': 'LabelSpreading', 'Accuracy': 0.6050285714285715, 'Balanced Accuracy': 0.6052213406843081, 'ROC AUC': 0.6052213406843081, 'F1 Score': 0.6041268942742638, 'Time taken': 70.66191577911377}\n"
     ]
    },
    {
     "name": "stderr",
     "output_type": "stream",
     "text": [
      " 48%|████▊     | 14/29 [02:20<05:02, 20.16s/it]"
     ]
    },
    {
     "name": "stdout",
     "output_type": "stream",
     "text": [
      "{'Model': 'LinearDiscriminantAnalysis', 'Accuracy': 0.6482, 'Balanced Accuracy': 0.6483471735547769, 'ROC AUC': 0.6483471735547769, 'F1 Score': 0.6477398562054121, 'Time taken': 0.46840548515319824}\n"
     ]
    },
    {
     "name": "stderr",
     "output_type": "stream",
     "text": [
      " 52%|█████▏    | 15/29 [02:21<03:32, 15.21s/it]"
     ]
    },
    {
     "name": "stdout",
     "output_type": "stream",
     "text": [
      "{'Model': 'LinearSVC', 'Accuracy': 0.6596, 'Balanced Accuracy': 0.6597604990251272, 'ROC AUC': 0.6597604990251273, 'F1 Score': 0.6590698916993121, 'Time taken': 1.5329616069793701}\n",
      "{'Model': 'LogisticRegression', 'Accuracy': 0.7159142857142857, 'Balanced Accuracy': 0.716069628542628, 'ROC AUC': 0.7160696285426281, 'F1 Score': 0.7155052897078492, 'Time taken': 0.09419512748718262}\n"
     ]
    },
    {
     "name": "stderr",
     "output_type": "stream",
     "text": [
      " 59%|█████▊    | 17/29 [02:22<01:45,  8.77s/it]"
     ]
    },
    {
     "name": "stdout",
     "output_type": "stream",
     "text": [
      "{'Model': 'NearestCentroid', 'Accuracy': 0.6443428571428571, 'Balanced Accuracy': 0.6445533985686629, 'ROC AUC': 0.6445533985686629, 'F1 Score': 0.643378050543392, 'Time taken': 0.46880316734313965}\n"
     ]
    },
    {
     "name": "stderr",
     "output_type": "stream",
     "text": [
      " 69%|██████▉   | 20/29 [10:06<10:23, 69.33s/it] "
     ]
    },
    {
     "name": "stdout",
     "output_type": "stream",
     "text": [
      "{'Model': 'NuSVC', 'Accuracy': 0.6881428571428572, 'Balanced Accuracy': 0.6884794728144221, 'ROC AUC': 0.6884794728144221, 'F1 Score': 0.6859605033136792, 'Time taken': 463.7831311225891}\n",
      "{'Model': 'PassiveAggressiveClassifier', 'Accuracy': 0.6166571428571429, 'Balanced Accuracy': 0.6166202659242548, 'ROC AUC': 0.6166202659242547, 'F1 Score': 0.6166227089594919, 'Time taken': 0.06364297866821289}\n",
      "{'Model': 'Perceptron', 'Accuracy': 0.6292285714285715, 'Balanced Accuracy': 0.6283575965786881, 'ROC AUC': 0.6283575965786881, 'F1 Score': 0.6106674608145535, 'Time taken': 0.055188894271850586}\n",
      "{'Model': 'QuadraticDiscriminantAnalysis', 'Accuracy': 0.6018285714285714, 'Balanced Accuracy': 0.6027970733246018, 'ROC AUC': 0.6027970733246019, 'F1 Score': 0.5771484915701685, 'Time taken': 0.05992913246154785}\n"
     ]
    },
    {
     "name": "stderr",
     "output_type": "stream",
     "text": [
      " 83%|████████▎ | 24/29 [10:14<02:29, 29.96s/it]"
     ]
    },
    {
     "name": "stdout",
     "output_type": "stream",
     "text": [
      "{'Model': 'RandomForestClassifier', 'Accuracy': 0.7254285714285714, 'Balanced Accuracy': 0.7255450944357966, 'ROC AUC': 0.7255450944357966, 'F1 Score': 0.7252107269915863, 'Time taken': 8.234311819076538}\n",
      "{'Model': 'RidgeClassifier', 'Accuracy': 0.6482, 'Balanced Accuracy': 0.6483471735547769, 'ROC AUC': 0.6483471735547769, 'F1 Score': 0.6477398562054121, 'Time taken': 0.05966520309448242}\n",
      "{'Model': 'RidgeClassifierCV', 'Accuracy': 0.6482, 'Balanced Accuracy': 0.6483471735547769, 'ROC AUC': 0.6483471735547769, 'F1 Score': 0.6477398562054121, 'Time taken': 0.06338357925415039}\n",
      "{'Model': 'SGDClassifier', 'Accuracy': 0.7204, 'Balanced Accuracy': 0.720852447924881, 'ROC AUC': 0.720852447924881, 'F1 Score': 0.7168361843072352, 'Time taken': 0.09881711006164551}\n"
     ]
    },
    {
     "name": "stderr",
     "output_type": "stream",
     "text": [
      " 90%|████████▉ | 26/29 [11:16<01:31, 30.39s/it]"
     ]
    },
    {
     "name": "stdout",
     "output_type": "stream",
     "text": [
      "{'Model': 'SVC', 'Accuracy': 0.7263142857142857, 'Balanced Accuracy': 0.726439165883797, 'ROC AUC': 0.7264391658837971, 'F1 Score': 0.726063674435472, 'Time taken': 62.422999143600464}\n",
      "StackingClassifier model failed to execute\n",
      "StackingClassifier.__init__() missing 1 required positional argument: 'estimators'\n"
     ]
    },
    {
     "name": "stderr",
     "output_type": "stream",
     "text": [
      "100%|██████████| 29/29 [11:17<00:00, 16.91s/it]"
     ]
    },
    {
     "name": "stdout",
     "output_type": "stream",
     "text": [
      "{'Model': 'XGBClassifier', 'Accuracy': 0.7279714285714286, 'Balanced Accuracy': 0.7281244499911999, 'ROC AUC': 0.7281244499911999, 'F1 Score': 0.7275927027676745, 'Time taken': 0.27407050132751465}\n",
      "[LightGBM] [Info] Number of positive: 17409, number of negative: 17591\n",
      "[LightGBM] [Info] Auto-choosing row-wise multi-threading, the overhead of testing was 0.001687 seconds.\n",
      "You can set `force_row_wise=true` to remove the overhead.\n",
      "And if memory is not enough, you can set `force_col_wise=true`.\n",
      "[LightGBM] [Info] Total Bins 934\n",
      "[LightGBM] [Info] Number of data points in the train set: 35000, number of used features: 12\n",
      "[LightGBM] [Info] [binary:BoostFromScore]: pavg=0.497400 -> initscore=-0.010400\n",
      "[LightGBM] [Info] Start training from score -0.010400\n",
      "{'Model': 'LGBMClassifier', 'Accuracy': 0.7379428571428571, 'Balanced Accuracy': 0.7381098669007276, 'ROC AUC': 0.7381098669007276, 'F1 Score': 0.7375070184401261, 'Time taken': 0.19223403930664062}\n"
     ]
    },
    {
     "name": "stderr",
     "output_type": "stream",
     "text": [
      "100%|██████████| 29/29 [11:17<00:00, 23.36s/it]\n"
     ]
    },
    {
     "data": {
      "text/html": [
       "<div>\n",
       "<style scoped>\n",
       "    .dataframe tbody tr th:only-of-type {\n",
       "        vertical-align: middle;\n",
       "    }\n",
       "\n",
       "    .dataframe tbody tr th {\n",
       "        vertical-align: top;\n",
       "    }\n",
       "\n",
       "    .dataframe thead th {\n",
       "        text-align: right;\n",
       "    }\n",
       "</style>\n",
       "<table border=\"1\" class=\"dataframe\">\n",
       "  <thead>\n",
       "    <tr style=\"text-align: right;\">\n",
       "      <th></th>\n",
       "      <th>Accuracy</th>\n",
       "      <th>Balanced Accuracy</th>\n",
       "      <th>ROC AUC</th>\n",
       "      <th>F1 Score</th>\n",
       "      <th>Time Taken</th>\n",
       "    </tr>\n",
       "    <tr>\n",
       "      <th>Model</th>\n",
       "      <th></th>\n",
       "      <th></th>\n",
       "      <th></th>\n",
       "      <th></th>\n",
       "      <th></th>\n",
       "    </tr>\n",
       "  </thead>\n",
       "  <tbody>\n",
       "    <tr>\n",
       "      <th>LGBMClassifier</th>\n",
       "      <td>0.74</td>\n",
       "      <td>0.74</td>\n",
       "      <td>0.74</td>\n",
       "      <td>0.74</td>\n",
       "      <td>0.19</td>\n",
       "    </tr>\n",
       "    <tr>\n",
       "      <th>AdaBoostClassifier</th>\n",
       "      <td>0.73</td>\n",
       "      <td>0.73</td>\n",
       "      <td>0.73</td>\n",
       "      <td>0.73</td>\n",
       "      <td>1.29</td>\n",
       "    </tr>\n",
       "    <tr>\n",
       "      <th>XGBClassifier</th>\n",
       "      <td>0.73</td>\n",
       "      <td>0.73</td>\n",
       "      <td>0.73</td>\n",
       "      <td>0.73</td>\n",
       "      <td>0.27</td>\n",
       "    </tr>\n",
       "    <tr>\n",
       "      <th>SVC</th>\n",
       "      <td>0.73</td>\n",
       "      <td>0.73</td>\n",
       "      <td>0.73</td>\n",
       "      <td>0.73</td>\n",
       "      <td>62.42</td>\n",
       "    </tr>\n",
       "    <tr>\n",
       "      <th>RandomForestClassifier</th>\n",
       "      <td>0.73</td>\n",
       "      <td>0.73</td>\n",
       "      <td>0.73</td>\n",
       "      <td>0.73</td>\n",
       "      <td>8.23</td>\n",
       "    </tr>\n",
       "    <tr>\n",
       "      <th>SGDClassifier</th>\n",
       "      <td>0.72</td>\n",
       "      <td>0.72</td>\n",
       "      <td>0.72</td>\n",
       "      <td>0.72</td>\n",
       "      <td>0.10</td>\n",
       "    </tr>\n",
       "    <tr>\n",
       "      <th>ExtraTreesClassifier</th>\n",
       "      <td>0.72</td>\n",
       "      <td>0.72</td>\n",
       "      <td>0.72</td>\n",
       "      <td>0.72</td>\n",
       "      <td>4.53</td>\n",
       "    </tr>\n",
       "    <tr>\n",
       "      <th>LogisticRegression</th>\n",
       "      <td>0.72</td>\n",
       "      <td>0.72</td>\n",
       "      <td>0.72</td>\n",
       "      <td>0.72</td>\n",
       "      <td>0.09</td>\n",
       "    </tr>\n",
       "    <tr>\n",
       "      <th>BernoulliNB</th>\n",
       "      <td>0.71</td>\n",
       "      <td>0.72</td>\n",
       "      <td>0.72</td>\n",
       "      <td>0.71</td>\n",
       "      <td>0.09</td>\n",
       "    </tr>\n",
       "    <tr>\n",
       "      <th>BaggingClassifier</th>\n",
       "      <td>0.70</td>\n",
       "      <td>0.70</td>\n",
       "      <td>0.70</td>\n",
       "      <td>0.70</td>\n",
       "      <td>2.70</td>\n",
       "    </tr>\n",
       "    <tr>\n",
       "      <th>NuSVC</th>\n",
       "      <td>0.69</td>\n",
       "      <td>0.69</td>\n",
       "      <td>0.69</td>\n",
       "      <td>0.69</td>\n",
       "      <td>463.78</td>\n",
       "    </tr>\n",
       "    <tr>\n",
       "      <th>LinearSVC</th>\n",
       "      <td>0.66</td>\n",
       "      <td>0.66</td>\n",
       "      <td>0.66</td>\n",
       "      <td>0.66</td>\n",
       "      <td>1.53</td>\n",
       "    </tr>\n",
       "    <tr>\n",
       "      <th>CalibratedClassifierCV</th>\n",
       "      <td>0.65</td>\n",
       "      <td>0.65</td>\n",
       "      <td>0.65</td>\n",
       "      <td>0.65</td>\n",
       "      <td>0.19</td>\n",
       "    </tr>\n",
       "    <tr>\n",
       "      <th>RidgeClassifier</th>\n",
       "      <td>0.65</td>\n",
       "      <td>0.65</td>\n",
       "      <td>0.65</td>\n",
       "      <td>0.65</td>\n",
       "      <td>0.06</td>\n",
       "    </tr>\n",
       "    <tr>\n",
       "      <th>LinearDiscriminantAnalysis</th>\n",
       "      <td>0.65</td>\n",
       "      <td>0.65</td>\n",
       "      <td>0.65</td>\n",
       "      <td>0.65</td>\n",
       "      <td>0.47</td>\n",
       "    </tr>\n",
       "    <tr>\n",
       "      <th>RidgeClassifierCV</th>\n",
       "      <td>0.65</td>\n",
       "      <td>0.65</td>\n",
       "      <td>0.65</td>\n",
       "      <td>0.65</td>\n",
       "      <td>0.06</td>\n",
       "    </tr>\n",
       "    <tr>\n",
       "      <th>NearestCentroid</th>\n",
       "      <td>0.64</td>\n",
       "      <td>0.64</td>\n",
       "      <td>0.64</td>\n",
       "      <td>0.64</td>\n",
       "      <td>0.47</td>\n",
       "    </tr>\n",
       "    <tr>\n",
       "      <th>DecisionTreeClassifier</th>\n",
       "      <td>0.63</td>\n",
       "      <td>0.63</td>\n",
       "      <td>0.63</td>\n",
       "      <td>0.63</td>\n",
       "      <td>0.38</td>\n",
       "    </tr>\n",
       "    <tr>\n",
       "      <th>Perceptron</th>\n",
       "      <td>0.63</td>\n",
       "      <td>0.63</td>\n",
       "      <td>0.63</td>\n",
       "      <td>0.61</td>\n",
       "      <td>0.06</td>\n",
       "    </tr>\n",
       "    <tr>\n",
       "      <th>ExtraTreeClassifier</th>\n",
       "      <td>0.62</td>\n",
       "      <td>0.62</td>\n",
       "      <td>0.62</td>\n",
       "      <td>0.62</td>\n",
       "      <td>0.08</td>\n",
       "    </tr>\n",
       "    <tr>\n",
       "      <th>KNeighborsClassifier</th>\n",
       "      <td>0.62</td>\n",
       "      <td>0.62</td>\n",
       "      <td>0.62</td>\n",
       "      <td>0.62</td>\n",
       "      <td>6.21</td>\n",
       "    </tr>\n",
       "    <tr>\n",
       "      <th>PassiveAggressiveClassifier</th>\n",
       "      <td>0.62</td>\n",
       "      <td>0.62</td>\n",
       "      <td>0.62</td>\n",
       "      <td>0.62</td>\n",
       "      <td>0.06</td>\n",
       "    </tr>\n",
       "    <tr>\n",
       "      <th>LabelSpreading</th>\n",
       "      <td>0.61</td>\n",
       "      <td>0.61</td>\n",
       "      <td>0.61</td>\n",
       "      <td>0.60</td>\n",
       "      <td>70.66</td>\n",
       "    </tr>\n",
       "    <tr>\n",
       "      <th>QuadraticDiscriminantAnalysis</th>\n",
       "      <td>0.60</td>\n",
       "      <td>0.60</td>\n",
       "      <td>0.60</td>\n",
       "      <td>0.58</td>\n",
       "      <td>0.06</td>\n",
       "    </tr>\n",
       "    <tr>\n",
       "      <th>LabelPropagation</th>\n",
       "      <td>0.60</td>\n",
       "      <td>0.60</td>\n",
       "      <td>0.60</td>\n",
       "      <td>0.60</td>\n",
       "      <td>53.26</td>\n",
       "    </tr>\n",
       "    <tr>\n",
       "      <th>GaussianNB</th>\n",
       "      <td>0.60</td>\n",
       "      <td>0.60</td>\n",
       "      <td>0.60</td>\n",
       "      <td>0.57</td>\n",
       "      <td>0.05</td>\n",
       "    </tr>\n",
       "    <tr>\n",
       "      <th>DummyClassifier</th>\n",
       "      <td>0.50</td>\n",
       "      <td>0.50</td>\n",
       "      <td>0.50</td>\n",
       "      <td>0.33</td>\n",
       "      <td>0.04</td>\n",
       "    </tr>\n",
       "  </tbody>\n",
       "</table>\n",
       "</div>"
      ],
      "text/plain": [
       "                               Accuracy  Balanced Accuracy  ROC AUC  F1 Score  \\\n",
       "Model                                                                           \n",
       "LGBMClassifier                     0.74               0.74     0.74      0.74   \n",
       "AdaBoostClassifier                 0.73               0.73     0.73      0.73   \n",
       "XGBClassifier                      0.73               0.73     0.73      0.73   \n",
       "SVC                                0.73               0.73     0.73      0.73   \n",
       "RandomForestClassifier             0.73               0.73     0.73      0.73   \n",
       "SGDClassifier                      0.72               0.72     0.72      0.72   \n",
       "ExtraTreesClassifier               0.72               0.72     0.72      0.72   \n",
       "LogisticRegression                 0.72               0.72     0.72      0.72   \n",
       "BernoulliNB                        0.71               0.72     0.72      0.71   \n",
       "BaggingClassifier                  0.70               0.70     0.70      0.70   \n",
       "NuSVC                              0.69               0.69     0.69      0.69   \n",
       "LinearSVC                          0.66               0.66     0.66      0.66   \n",
       "CalibratedClassifierCV             0.65               0.65     0.65      0.65   \n",
       "RidgeClassifier                    0.65               0.65     0.65      0.65   \n",
       "LinearDiscriminantAnalysis         0.65               0.65     0.65      0.65   \n",
       "RidgeClassifierCV                  0.65               0.65     0.65      0.65   \n",
       "NearestCentroid                    0.64               0.64     0.64      0.64   \n",
       "DecisionTreeClassifier             0.63               0.63     0.63      0.63   \n",
       "Perceptron                         0.63               0.63     0.63      0.61   \n",
       "ExtraTreeClassifier                0.62               0.62     0.62      0.62   \n",
       "KNeighborsClassifier               0.62               0.62     0.62      0.62   \n",
       "PassiveAggressiveClassifier        0.62               0.62     0.62      0.62   \n",
       "LabelSpreading                     0.61               0.61     0.61      0.60   \n",
       "QuadraticDiscriminantAnalysis      0.60               0.60     0.60      0.58   \n",
       "LabelPropagation                   0.60               0.60     0.60      0.60   \n",
       "GaussianNB                         0.60               0.60     0.60      0.57   \n",
       "DummyClassifier                    0.50               0.50     0.50      0.33   \n",
       "\n",
       "                               Time Taken  \n",
       "Model                                      \n",
       "LGBMClassifier                       0.19  \n",
       "AdaBoostClassifier                   1.29  \n",
       "XGBClassifier                        0.27  \n",
       "SVC                                 62.42  \n",
       "RandomForestClassifier               8.23  \n",
       "SGDClassifier                        0.10  \n",
       "ExtraTreesClassifier                 4.53  \n",
       "LogisticRegression                   0.09  \n",
       "BernoulliNB                          0.09  \n",
       "BaggingClassifier                    2.70  \n",
       "NuSVC                              463.78  \n",
       "LinearSVC                            1.53  \n",
       "CalibratedClassifierCV               0.19  \n",
       "RidgeClassifier                      0.06  \n",
       "LinearDiscriminantAnalysis           0.47  \n",
       "RidgeClassifierCV                    0.06  \n",
       "NearestCentroid                      0.47  \n",
       "DecisionTreeClassifier               0.38  \n",
       "Perceptron                           0.06  \n",
       "ExtraTreeClassifier                  0.08  \n",
       "KNeighborsClassifier                 6.21  \n",
       "PassiveAggressiveClassifier          0.06  \n",
       "LabelSpreading                      70.66  \n",
       "QuadraticDiscriminantAnalysis        0.06  \n",
       "LabelPropagation                    53.26  \n",
       "GaussianNB                           0.05  \n",
       "DummyClassifier                      0.04  "
      ]
     },
     "execution_count": 4,
     "metadata": {},
     "output_type": "execute_result"
    }
   ],
   "source": [
    "from lazypredict.Supervised import LazyClassifier\n",
    "clf = LazyClassifier(verbose=1,ignore_warnings=False, custom_metric=None)\n",
    "models,predictions = clf.fit(X_train_scaled, X_test_scaled, y_train, y_test)\n",
    "models"
   ]
  },
  {
   "cell_type": "code",
   "execution_count": 8,
   "metadata": {},
   "outputs": [
    {
     "name": "stderr",
     "output_type": "stream",
     "text": [
      "  3%|▎         | 1/29 [00:01<00:50,  1.79s/it]"
     ]
    },
    {
     "name": "stdout",
     "output_type": "stream",
     "text": [
      "{'Model': 'AdaBoostClassifier', 'Accuracy': 0.7358857142857143, 'Balanced Accuracy': 0.7363721223110291, 'ROC AUC': 0.7363721223110291, 'F1 Score': 0.7346996596255968, 'Time taken': 1.7923941612243652}\n"
     ]
    },
    {
     "name": "stderr",
     "output_type": "stream",
     "text": [
      "  7%|▋         | 2/29 [00:05<01:24,  3.13s/it]"
     ]
    },
    {
     "name": "stdout",
     "output_type": "stream",
     "text": [
      "{'Model': 'BaggingClassifier', 'Accuracy': 0.7009714285714286, 'Balanced Accuracy': 0.701328534294019, 'ROC AUC': 0.701328534294019, 'F1 Score': 0.7002565760846645, 'Time taken': 4.059341669082642}\n",
      "{'Model': 'BernoulliNB', 'Accuracy': 0.7166857142857143, 'Balanced Accuracy': 0.7170189090048812, 'ROC AUC': 0.7170189090048812, 'F1 Score': 0.7161020805207002, 'Time taken': 0.06246590614318848}\n"
     ]
    },
    {
     "name": "stderr",
     "output_type": "stream",
     "text": [
      " 14%|█▍        | 4/29 [00:06<00:31,  1.27s/it]"
     ]
    },
    {
     "name": "stdout",
     "output_type": "stream",
     "text": [
      "{'Model': 'CalibratedClassifierCV', 'Accuracy': 0.6565142857142857, 'Balanced Accuracy': 0.6567112411168765, 'ROC AUC': 0.6567112411168764, 'F1 Score': 0.6562738627518906, 'Time taken': 0.2564504146575928}\n",
      "CategoricalNB model failed to execute\n",
      "Negative values in data passed to CategoricalNB (input X)\n"
     ]
    },
    {
     "name": "stderr",
     "output_type": "stream",
     "text": [
      " 28%|██▊       | 8/29 [00:06<00:10,  1.97it/s]"
     ]
    },
    {
     "name": "stdout",
     "output_type": "stream",
     "text": [
      "{'Model': 'DecisionTreeClassifier', 'Accuracy': 0.6361142857142857, 'Balanced Accuracy': 0.6361154511385362, 'ROC AUC': 0.6361154511385362, 'F1 Score': 0.6361186203432573, 'Time taken': 0.567406177520752}\n",
      "{'Model': 'DummyClassifier', 'Accuracy': 0.4964571428571429, 'Balanced Accuracy': 0.5, 'ROC AUC': 0.5, 'F1 Score': 0.3294042811320343, 'Time taken': 0.03400063514709473}\n",
      "{'Model': 'ExtraTreeClassifier', 'Accuracy': 0.6250857142857142, 'Balanced Accuracy': 0.6251053571264364, 'ROC AUC': 0.6251053571264366, 'F1 Score': 0.6250890869932852, 'Time taken': 0.09603118896484375}\n"
     ]
    },
    {
     "name": "stderr",
     "output_type": "stream",
     "text": [
      " 31%|███       | 9/29 [00:12<00:34,  1.72s/it]"
     ]
    },
    {
     "name": "stdout",
     "output_type": "stream",
     "text": [
      "{'Model': 'ExtraTreesClassifier', 'Accuracy': 0.7168, 'Balanced Accuracy': 0.716879721608488, 'ROC AUC': 0.7168797216084879, 'F1 Score': 0.7167768289650058, 'Time taken': 5.931242942810059}\n",
      "{'Model': 'GaussianNB', 'Accuracy': 0.594, 'Balanced Accuracy': 0.5959479225967603, 'ROC AUC': 0.5959479225967603, 'F1 Score': 0.5610598119562251, 'Time taken': 0.049016475677490234}\n"
     ]
    },
    {
     "name": "stderr",
     "output_type": "stream",
     "text": [
      " 38%|███▊      | 11/29 [00:16<00:32,  1.79s/it]"
     ]
    },
    {
     "name": "stdout",
     "output_type": "stream",
     "text": [
      "{'Model': 'KNeighborsClassifier', 'Accuracy': 0.6276571428571428, 'Balanced Accuracy': 0.6277736902800384, 'ROC AUC': 0.6277736902800383, 'F1 Score': 0.6275718534228112, 'Time taken': 3.7416114807128906}\n"
     ]
    },
    {
     "name": "stderr",
     "output_type": "stream",
     "text": [
      " 41%|████▏     | 12/29 [10:35<38:35, 136.20s/it]"
     ]
    },
    {
     "name": "stdout",
     "output_type": "stream",
     "text": [
      "{'Model': 'LabelPropagation', 'Accuracy': 0.6168, 'Balanced Accuracy': 0.6171970155797928, 'ROC AUC': 0.6171970155797929, 'F1 Score': 0.6156340729055464, 'Time taken': 619.0288436412811}\n"
     ]
    },
    {
     "name": "stderr",
     "output_type": "stream",
     "text": [
      " 45%|████▍     | 13/29 [40:24<2:20:53, 528.34s/it]"
     ]
    },
    {
     "name": "stdout",
     "output_type": "stream",
     "text": [
      "{'Model': 'LabelSpreading', 'Accuracy': 0.6180571428571429, 'Balanced Accuracy': 0.6184671789431622, 'ROC AUC': 0.6184671789431622, 'F1 Score': 0.6168162102817685, 'Time taken': 1788.8747091293335}\n"
     ]
    },
    {
     "name": "stderr",
     "output_type": "stream",
     "text": [
      " 48%|████▊     | 14/29 [40:24<1:38:39, 394.66s/it]"
     ]
    },
    {
     "name": "stdout",
     "output_type": "stream",
     "text": [
      "{'Model': 'LinearDiscriminantAnalysis', 'Accuracy': 0.6530857142857143, 'Balanced Accuracy': 0.653334327081186, 'ROC AUC': 0.653334327081186, 'F1 Score': 0.6526886674673655, 'Time taken': 0.22759008407592773}\n"
     ]
    },
    {
     "name": "stderr",
     "output_type": "stream",
     "text": [
      " 55%|█████▌    | 16/29 [40:27<45:39, 210.71s/it]  "
     ]
    },
    {
     "name": "stdout",
     "output_type": "stream",
     "text": [
      "{'Model': 'LinearSVC', 'Accuracy': 0.6812571428571429, 'Balanced Accuracy': 0.6815391586811554, 'ROC AUC': 0.6815391586811556, 'F1 Score': 0.6807877623304864, 'Time taken': 2.8446991443634033}\n",
      "{'Model': 'LogisticRegression', 'Accuracy': 0.7202285714285714, 'Balanced Accuracy': 0.7205360292636276, 'ROC AUC': 0.7205360292636276, 'F1 Score': 0.7197418733605414, 'Time taken': 0.1623542308807373}\n"
     ]
    },
    {
     "name": "stderr",
     "output_type": "stream",
     "text": [
      " 59%|█████▊    | 17/29 [40:28<30:17, 151.42s/it]"
     ]
    },
    {
     "name": "stdout",
     "output_type": "stream",
     "text": [
      "{'Model': 'NearestCentroid', 'Accuracy': 0.6473142857142857, 'Balanced Accuracy': 0.6476933973344569, 'ROC AUC': 0.6476933973344569, 'F1 Score': 0.6463458920198462, 'Time taken': 0.5173828601837158}\n"
     ]
    },
    {
     "name": "stderr",
     "output_type": "stream",
     "text": [
      " 69%|██████▉   | 20/29 [1:03:35<41:42, 278.10s/it]  "
     ]
    },
    {
     "name": "stdout",
     "output_type": "stream",
     "text": [
      "{'Model': 'NuSVC', 'Accuracy': 0.6872571428571429, 'Balanced Accuracy': 0.6876119403141037, 'ROC AUC': 0.6876119403141037, 'F1 Score': 0.6865165200731295, 'Time taken': 1386.8125891685486}\n",
      "{'Model': 'PassiveAggressiveClassifier', 'Accuracy': 0.6262857142857143, 'Balanced Accuracy': 0.6256539038511857, 'ROC AUC': 0.6256539038511856, 'F1 Score': 0.6232327271351629, 'Time taken': 0.08590292930603027}\n",
      "{'Model': 'Perceptron', 'Accuracy': 0.5973142857142857, 'Balanced Accuracy': 0.5966935730951182, 'ROC AUC': 0.5966935730951182, 'F1 Score': 0.5941540108014844, 'Time taken': 0.05922818183898926}\n",
      "{'Model': 'QuadraticDiscriminantAnalysis', 'Accuracy': 0.5953142857142857, 'Balanced Accuracy': 0.5971865545811045, 'ROC AUC': 0.5971865545811045, 'F1 Score': 0.5651745377564154, 'Time taken': 0.058992862701416016}\n"
     ]
    },
    {
     "name": "stderr",
     "output_type": "stream",
     "text": [
      " 83%|████████▎ | 24/29 [1:03:47<09:10, 110.02s/it]"
     ]
    },
    {
     "name": "stdout",
     "output_type": "stream",
     "text": [
      "{'Model': 'RandomForestClassifier', 'Accuracy': 0.7249714285714286, 'Balanced Accuracy': 0.7251467162641936, 'ROC AUC': 0.7251467162641936, 'F1 Score': 0.7248275223444125, 'Time taken': 12.124473094940186}\n",
      "{'Model': 'RidgeClassifier', 'Accuracy': 0.6530857142857143, 'Balanced Accuracy': 0.653334327081186, 'ROC AUC': 0.653334327081186, 'F1 Score': 0.6526886674673655, 'Time taken': 0.05760645866394043}\n",
      "{'Model': 'RidgeClassifierCV', 'Accuracy': 0.6531428571428571, 'Balanced Accuracy': 0.6533918777257532, 'ROC AUC': 0.6533918777257532, 'F1 Score': 0.6527445241631374, 'Time taken': 0.07194066047668457}\n"
     ]
    },
    {
     "name": "stderr",
     "output_type": "stream",
     "text": [
      " 86%|████████▌ | 25/29 [1:03:47<05:50, 87.61s/it] "
     ]
    },
    {
     "name": "stdout",
     "output_type": "stream",
     "text": [
      "{'Model': 'SGDClassifier', 'Accuracy': 0.7262857142857143, 'Balanced Accuracy': 0.7265351680154887, 'ROC AUC': 0.7265351680154888, 'F1 Score': 0.7259798611052398, 'Time taken': 0.1430683135986328}\n"
     ]
    },
    {
     "name": "stderr",
     "output_type": "stream",
     "text": [
      " 90%|████████▉ | 26/29 [1:05:07<04:17, 85.93s/it]"
     ]
    },
    {
     "name": "stdout",
     "output_type": "stream",
     "text": [
      "{'Model': 'SVC', 'Accuracy': 0.7283428571428572, 'Balanced Accuracy': 0.7285729780836279, 'ROC AUC': 0.7285729780836278, 'F1 Score': 0.7280874144085626, 'Time taken': 80.15470433235168}\n",
      "StackingClassifier model failed to execute\n",
      "StackingClassifier.__init__() missing 1 required positional argument: 'estimators'\n"
     ]
    },
    {
     "name": "stderr",
     "output_type": "stream",
     "text": [
      " 97%|█████████▋| 28/29 [1:05:08<00:52, 52.29s/it]"
     ]
    },
    {
     "name": "stdout",
     "output_type": "stream",
     "text": [
      "{'Model': 'XGBClassifier', 'Accuracy': 0.7342285714285715, 'Balanced Accuracy': 0.7344683010109269, 'ROC AUC': 0.734468301010927, 'F1 Score': 0.7339566108050288, 'Time taken': 0.2284839153289795}\n",
      "[LightGBM] [Info] Number of positive: 26167, number of negative: 26333\n",
      "[LightGBM] [Info] Auto-choosing row-wise multi-threading, the overhead of testing was 0.001644 seconds.\n",
      "You can set `force_row_wise=true` to remove the overhead.\n",
      "And if memory is not enough, you can set `force_col_wise=true`.\n",
      "[LightGBM] [Info] Total Bins 979\n",
      "[LightGBM] [Info] Number of data points in the train set: 52500, number of used features: 12\n",
      "[LightGBM] [Info] [binary:BoostFromScore]: pavg=0.498419 -> initscore=-0.006324\n",
      "[LightGBM] [Info] Start training from score -0.006324\n"
     ]
    },
    {
     "name": "stderr",
     "output_type": "stream",
     "text": [
      "100%|██████████| 29/29 [1:05:08<00:00, 134.77s/it]"
     ]
    },
    {
     "name": "stdout",
     "output_type": "stream",
     "text": [
      "{'Model': 'LGBMClassifier', 'Accuracy': 0.7388571428571429, 'Balanced Accuracy': 0.7391274737111373, 'ROC AUC': 0.7391274737111373, 'F1 Score': 0.738512956758573, 'Time taken': 0.23040199279785156}\n"
     ]
    },
    {
     "name": "stderr",
     "output_type": "stream",
     "text": [
      "\n"
     ]
    },
    {
     "data": {
      "text/html": [
       "<div>\n",
       "<style scoped>\n",
       "    .dataframe tbody tr th:only-of-type {\n",
       "        vertical-align: middle;\n",
       "    }\n",
       "\n",
       "    .dataframe tbody tr th {\n",
       "        vertical-align: top;\n",
       "    }\n",
       "\n",
       "    .dataframe thead th {\n",
       "        text-align: right;\n",
       "    }\n",
       "</style>\n",
       "<table border=\"1\" class=\"dataframe\">\n",
       "  <thead>\n",
       "    <tr style=\"text-align: right;\">\n",
       "      <th></th>\n",
       "      <th>Accuracy</th>\n",
       "      <th>Balanced Accuracy</th>\n",
       "      <th>ROC AUC</th>\n",
       "      <th>F1 Score</th>\n",
       "      <th>Time Taken</th>\n",
       "    </tr>\n",
       "    <tr>\n",
       "      <th>Model</th>\n",
       "      <th></th>\n",
       "      <th></th>\n",
       "      <th></th>\n",
       "      <th></th>\n",
       "      <th></th>\n",
       "    </tr>\n",
       "  </thead>\n",
       "  <tbody>\n",
       "    <tr>\n",
       "      <th>LGBMClassifier</th>\n",
       "      <td>0.74</td>\n",
       "      <td>0.74</td>\n",
       "      <td>0.74</td>\n",
       "      <td>0.74</td>\n",
       "      <td>0.23</td>\n",
       "    </tr>\n",
       "    <tr>\n",
       "      <th>AdaBoostClassifier</th>\n",
       "      <td>0.74</td>\n",
       "      <td>0.74</td>\n",
       "      <td>0.74</td>\n",
       "      <td>0.73</td>\n",
       "      <td>1.79</td>\n",
       "    </tr>\n",
       "    <tr>\n",
       "      <th>XGBClassifier</th>\n",
       "      <td>0.73</td>\n",
       "      <td>0.73</td>\n",
       "      <td>0.73</td>\n",
       "      <td>0.73</td>\n",
       "      <td>0.23</td>\n",
       "    </tr>\n",
       "    <tr>\n",
       "      <th>SVC</th>\n",
       "      <td>0.73</td>\n",
       "      <td>0.73</td>\n",
       "      <td>0.73</td>\n",
       "      <td>0.73</td>\n",
       "      <td>80.15</td>\n",
       "    </tr>\n",
       "    <tr>\n",
       "      <th>SGDClassifier</th>\n",
       "      <td>0.73</td>\n",
       "      <td>0.73</td>\n",
       "      <td>0.73</td>\n",
       "      <td>0.73</td>\n",
       "      <td>0.14</td>\n",
       "    </tr>\n",
       "    <tr>\n",
       "      <th>RandomForestClassifier</th>\n",
       "      <td>0.72</td>\n",
       "      <td>0.73</td>\n",
       "      <td>0.73</td>\n",
       "      <td>0.72</td>\n",
       "      <td>12.12</td>\n",
       "    </tr>\n",
       "    <tr>\n",
       "      <th>LogisticRegression</th>\n",
       "      <td>0.72</td>\n",
       "      <td>0.72</td>\n",
       "      <td>0.72</td>\n",
       "      <td>0.72</td>\n",
       "      <td>0.16</td>\n",
       "    </tr>\n",
       "    <tr>\n",
       "      <th>BernoulliNB</th>\n",
       "      <td>0.72</td>\n",
       "      <td>0.72</td>\n",
       "      <td>0.72</td>\n",
       "      <td>0.72</td>\n",
       "      <td>0.06</td>\n",
       "    </tr>\n",
       "    <tr>\n",
       "      <th>ExtraTreesClassifier</th>\n",
       "      <td>0.72</td>\n",
       "      <td>0.72</td>\n",
       "      <td>0.72</td>\n",
       "      <td>0.72</td>\n",
       "      <td>5.93</td>\n",
       "    </tr>\n",
       "    <tr>\n",
       "      <th>BaggingClassifier</th>\n",
       "      <td>0.70</td>\n",
       "      <td>0.70</td>\n",
       "      <td>0.70</td>\n",
       "      <td>0.70</td>\n",
       "      <td>4.06</td>\n",
       "    </tr>\n",
       "    <tr>\n",
       "      <th>NuSVC</th>\n",
       "      <td>0.69</td>\n",
       "      <td>0.69</td>\n",
       "      <td>0.69</td>\n",
       "      <td>0.69</td>\n",
       "      <td>1386.81</td>\n",
       "    </tr>\n",
       "    <tr>\n",
       "      <th>LinearSVC</th>\n",
       "      <td>0.68</td>\n",
       "      <td>0.68</td>\n",
       "      <td>0.68</td>\n",
       "      <td>0.68</td>\n",
       "      <td>2.84</td>\n",
       "    </tr>\n",
       "    <tr>\n",
       "      <th>CalibratedClassifierCV</th>\n",
       "      <td>0.66</td>\n",
       "      <td>0.66</td>\n",
       "      <td>0.66</td>\n",
       "      <td>0.66</td>\n",
       "      <td>0.26</td>\n",
       "    </tr>\n",
       "    <tr>\n",
       "      <th>RidgeClassifierCV</th>\n",
       "      <td>0.65</td>\n",
       "      <td>0.65</td>\n",
       "      <td>0.65</td>\n",
       "      <td>0.65</td>\n",
       "      <td>0.07</td>\n",
       "    </tr>\n",
       "    <tr>\n",
       "      <th>LinearDiscriminantAnalysis</th>\n",
       "      <td>0.65</td>\n",
       "      <td>0.65</td>\n",
       "      <td>0.65</td>\n",
       "      <td>0.65</td>\n",
       "      <td>0.23</td>\n",
       "    </tr>\n",
       "    <tr>\n",
       "      <th>RidgeClassifier</th>\n",
       "      <td>0.65</td>\n",
       "      <td>0.65</td>\n",
       "      <td>0.65</td>\n",
       "      <td>0.65</td>\n",
       "      <td>0.06</td>\n",
       "    </tr>\n",
       "    <tr>\n",
       "      <th>NearestCentroid</th>\n",
       "      <td>0.65</td>\n",
       "      <td>0.65</td>\n",
       "      <td>0.65</td>\n",
       "      <td>0.65</td>\n",
       "      <td>0.52</td>\n",
       "    </tr>\n",
       "    <tr>\n",
       "      <th>DecisionTreeClassifier</th>\n",
       "      <td>0.64</td>\n",
       "      <td>0.64</td>\n",
       "      <td>0.64</td>\n",
       "      <td>0.64</td>\n",
       "      <td>0.57</td>\n",
       "    </tr>\n",
       "    <tr>\n",
       "      <th>KNeighborsClassifier</th>\n",
       "      <td>0.63</td>\n",
       "      <td>0.63</td>\n",
       "      <td>0.63</td>\n",
       "      <td>0.63</td>\n",
       "      <td>3.74</td>\n",
       "    </tr>\n",
       "    <tr>\n",
       "      <th>PassiveAggressiveClassifier</th>\n",
       "      <td>0.63</td>\n",
       "      <td>0.63</td>\n",
       "      <td>0.63</td>\n",
       "      <td>0.62</td>\n",
       "      <td>0.09</td>\n",
       "    </tr>\n",
       "    <tr>\n",
       "      <th>ExtraTreeClassifier</th>\n",
       "      <td>0.63</td>\n",
       "      <td>0.63</td>\n",
       "      <td>0.63</td>\n",
       "      <td>0.63</td>\n",
       "      <td>0.10</td>\n",
       "    </tr>\n",
       "    <tr>\n",
       "      <th>LabelSpreading</th>\n",
       "      <td>0.62</td>\n",
       "      <td>0.62</td>\n",
       "      <td>0.62</td>\n",
       "      <td>0.62</td>\n",
       "      <td>1788.87</td>\n",
       "    </tr>\n",
       "    <tr>\n",
       "      <th>LabelPropagation</th>\n",
       "      <td>0.62</td>\n",
       "      <td>0.62</td>\n",
       "      <td>0.62</td>\n",
       "      <td>0.62</td>\n",
       "      <td>619.03</td>\n",
       "    </tr>\n",
       "    <tr>\n",
       "      <th>QuadraticDiscriminantAnalysis</th>\n",
       "      <td>0.60</td>\n",
       "      <td>0.60</td>\n",
       "      <td>0.60</td>\n",
       "      <td>0.57</td>\n",
       "      <td>0.06</td>\n",
       "    </tr>\n",
       "    <tr>\n",
       "      <th>Perceptron</th>\n",
       "      <td>0.60</td>\n",
       "      <td>0.60</td>\n",
       "      <td>0.60</td>\n",
       "      <td>0.59</td>\n",
       "      <td>0.06</td>\n",
       "    </tr>\n",
       "    <tr>\n",
       "      <th>GaussianNB</th>\n",
       "      <td>0.59</td>\n",
       "      <td>0.60</td>\n",
       "      <td>0.60</td>\n",
       "      <td>0.56</td>\n",
       "      <td>0.05</td>\n",
       "    </tr>\n",
       "    <tr>\n",
       "      <th>DummyClassifier</th>\n",
       "      <td>0.50</td>\n",
       "      <td>0.50</td>\n",
       "      <td>0.50</td>\n",
       "      <td>0.33</td>\n",
       "      <td>0.03</td>\n",
       "    </tr>\n",
       "  </tbody>\n",
       "</table>\n",
       "</div>"
      ],
      "text/plain": [
       "                               Accuracy  Balanced Accuracy  ROC AUC  F1 Score  \\\n",
       "Model                                                                           \n",
       "LGBMClassifier                     0.74               0.74     0.74      0.74   \n",
       "AdaBoostClassifier                 0.74               0.74     0.74      0.73   \n",
       "XGBClassifier                      0.73               0.73     0.73      0.73   \n",
       "SVC                                0.73               0.73     0.73      0.73   \n",
       "SGDClassifier                      0.73               0.73     0.73      0.73   \n",
       "RandomForestClassifier             0.72               0.73     0.73      0.72   \n",
       "LogisticRegression                 0.72               0.72     0.72      0.72   \n",
       "BernoulliNB                        0.72               0.72     0.72      0.72   \n",
       "ExtraTreesClassifier               0.72               0.72     0.72      0.72   \n",
       "BaggingClassifier                  0.70               0.70     0.70      0.70   \n",
       "NuSVC                              0.69               0.69     0.69      0.69   \n",
       "LinearSVC                          0.68               0.68     0.68      0.68   \n",
       "CalibratedClassifierCV             0.66               0.66     0.66      0.66   \n",
       "RidgeClassifierCV                  0.65               0.65     0.65      0.65   \n",
       "LinearDiscriminantAnalysis         0.65               0.65     0.65      0.65   \n",
       "RidgeClassifier                    0.65               0.65     0.65      0.65   \n",
       "NearestCentroid                    0.65               0.65     0.65      0.65   \n",
       "DecisionTreeClassifier             0.64               0.64     0.64      0.64   \n",
       "KNeighborsClassifier               0.63               0.63     0.63      0.63   \n",
       "PassiveAggressiveClassifier        0.63               0.63     0.63      0.62   \n",
       "ExtraTreeClassifier                0.63               0.63     0.63      0.63   \n",
       "LabelSpreading                     0.62               0.62     0.62      0.62   \n",
       "LabelPropagation                   0.62               0.62     0.62      0.62   \n",
       "QuadraticDiscriminantAnalysis      0.60               0.60     0.60      0.57   \n",
       "Perceptron                         0.60               0.60     0.60      0.59   \n",
       "GaussianNB                         0.59               0.60     0.60      0.56   \n",
       "DummyClassifier                    0.50               0.50     0.50      0.33   \n",
       "\n",
       "                               Time Taken  \n",
       "Model                                      \n",
       "LGBMClassifier                       0.23  \n",
       "AdaBoostClassifier                   1.79  \n",
       "XGBClassifier                        0.23  \n",
       "SVC                                 80.15  \n",
       "SGDClassifier                        0.14  \n",
       "RandomForestClassifier              12.12  \n",
       "LogisticRegression                   0.16  \n",
       "BernoulliNB                          0.06  \n",
       "ExtraTreesClassifier                 5.93  \n",
       "BaggingClassifier                    4.06  \n",
       "NuSVC                             1386.81  \n",
       "LinearSVC                            2.84  \n",
       "CalibratedClassifierCV               0.26  \n",
       "RidgeClassifierCV                    0.07  \n",
       "LinearDiscriminantAnalysis           0.23  \n",
       "RidgeClassifier                      0.06  \n",
       "NearestCentroid                      0.52  \n",
       "DecisionTreeClassifier               0.57  \n",
       "KNeighborsClassifier                 3.74  \n",
       "PassiveAggressiveClassifier          0.09  \n",
       "ExtraTreeClassifier                  0.10  \n",
       "LabelSpreading                    1788.87  \n",
       "LabelPropagation                   619.03  \n",
       "QuadraticDiscriminantAnalysis        0.06  \n",
       "Perceptron                           0.06  \n",
       "GaussianNB                           0.05  \n",
       "DummyClassifier                      0.03  "
      ]
     },
     "execution_count": 8,
     "metadata": {},
     "output_type": "execute_result"
    }
   ],
   "source": [
    "clf_full = LazyClassifier(verbose=1,ignore_warnings=False, custom_metric=None)\n",
    "models_full,predictions_full = clf_full.fit(X_train_scaled, X_test_scaled, y_train, y_test)\n",
    "models_full"
   ]
  }
 ],
 "metadata": {
  "kernelspec": {
   "display_name": "dev",
   "language": "python",
   "name": "python3"
  },
  "language_info": {
   "codemirror_mode": {
    "name": "ipython",
    "version": 3
   },
   "file_extension": ".py",
   "mimetype": "text/x-python",
   "name": "python",
   "nbconvert_exporter": "python",
   "pygments_lexer": "ipython3",
   "version": "3.10.13"
  }
 },
 "nbformat": 4,
 "nbformat_minor": 2
}
